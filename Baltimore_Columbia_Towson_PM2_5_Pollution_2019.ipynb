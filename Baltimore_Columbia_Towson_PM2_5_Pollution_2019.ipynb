{
  "nbformat": 4,
  "nbformat_minor": 0,
  "metadata": {
    "colab": {
      "name": "Baltimore-Columbia-Towson_PM2.5_Pollution_2019.ipynb",
      "provenance": [],
      "collapsed_sections": []
    },
    "kernelspec": {
      "name": "python3",
      "display_name": "Python 3"
    }
  },
  "cells": [
    {
      "cell_type": "markdown",
      "metadata": {
        "id": "y4wxyEvUFVQF",
        "colab_type": "text"
      },
      "source": [
        "# Baltimore-Columbia-Towson_PM2.5_Pollution_2019"
      ]
    },
    {
      "cell_type": "markdown",
      "metadata": {
        "id": "foHUZz9fFjUZ",
        "colab_type": "text"
      },
      "source": [
        "We'll use data that we've previously used from [Opportunity Insights](https://opportunityinsights.org/data/?geographic_level=100&topic=0&paper_id=0#resource-listing) to look at general US college characteristics through data analysis and data visualizations with [Plotly](https://plot.ly/python/)."
      ]
    },
    {
      "cell_type": "markdown",
      "metadata": {
        "id": "uNtznhhkGT4y",
        "colab_type": "text"
      },
      "source": [
        "## Import Packages"
      ]
    },
    {
      "cell_type": "markdown",
      "metadata": {
        "id": "OALs4o1QGYSP",
        "colab_type": "text"
      },
      "source": [
        "Think of our Python packages as the \"ingredients\" of our Python code. Without these imported, we won't be able to carry out any of our Python code instructions. We'll use a couple of packages to help with manipulating our data (pandas and numpy) and a package to help with making data visualizations (plotly express)"
      ]
    },
    {
      "cell_type": "code",
      "metadata": {
        "id": "kLvcDHogBj2v",
        "colab_type": "code",
        "colab": {}
      },
      "source": [
        "# import libraries that we'll use to re-do our data analysis with Excel\n",
        "import pandas as pd # for data analysis\n",
        "import numpy as np # for data analysis\n",
        "import matplotlib.pyplot as plt # for initial graphs\n",
        "import plotly.express as px # for interactive graphs"
      ],
      "execution_count": 0,
      "outputs": []
    },
    {
      "cell_type": "markdown",
      "metadata": {
        "id": "PlKbxw3nK-UR",
        "colab_type": "text"
      },
      "source": [
        "## Import Data"
      ]
    },
    {
      "cell_type": "markdown",
      "metadata": {
        "id": "Ww_t6hlrLDgH",
        "colab_type": "text"
      },
      "source": [
        "We'll use the same data that we used in our first few classes that gives us information about US Colleges and their social mobility impact. \n",
        "\n",
        "We can import data from a website link that houses the data (in github or a Google Sheet) or directly from a file in our machine. Here, we'll import information directly from a file link on [github](https://github.com/jhu-decision-analytics/college-social-mobility-trends)"
      ]
    },
    {
      "cell_type": "code",
      "metadata": {
        "id": "D37ROIWuLwce",
        "colab_type": "code",
        "colab": {}
      },
      "source": [
        "# import data from github\n",
        "\n",
        "# redefine the link to our uploaded csv file as something that's shorter and more descriptive\n",
        "air_info = \"https://raw.githubusercontent.com/LTLUTUO/Baltimore-Columbia-Towson_PM2.5_Pollution_2019/master/ad_viz_plotval_data.csv\"\n",
        "\n",
        "# import this csv into our python notebook and define as a new dataframe\n",
        "df_air_info = pd.read_csv(air_info)"
      ],
      "execution_count": 0,
      "outputs": []
    },
    {
      "cell_type": "code",
      "metadata": {
        "id": "nKLidDh6Mobo",
        "colab_type": "code",
        "outputId": "6e3ec2a2-2e36-4047-a523-89610fa9b654",
        "colab": {
          "base_uri": "https://localhost:8080/",
          "height": 513
        }
      },
      "source": [
        "# preview the dataframe\n",
        "df_air_info.head()"
      ],
      "execution_count": 3,
      "outputs": [
        {
          "output_type": "execute_result",
          "data": {
            "text/html": [
              "<div>\n",
              "<style scoped>\n",
              "    .dataframe tbody tr th:only-of-type {\n",
              "        vertical-align: middle;\n",
              "    }\n",
              "\n",
              "    .dataframe tbody tr th {\n",
              "        vertical-align: top;\n",
              "    }\n",
              "\n",
              "    .dataframe thead th {\n",
              "        text-align: right;\n",
              "    }\n",
              "</style>\n",
              "<table border=\"1\" class=\"dataframe\">\n",
              "  <thead>\n",
              "    <tr style=\"text-align: right;\">\n",
              "      <th></th>\n",
              "      <th>Date</th>\n",
              "      <th>Source</th>\n",
              "      <th>Site ID</th>\n",
              "      <th>POC</th>\n",
              "      <th>Daily Mean PM2.5 Concentration</th>\n",
              "      <th>UNITS</th>\n",
              "      <th>DAILY_AQI_VALUE</th>\n",
              "      <th>Site Name</th>\n",
              "      <th>DAILY_OBS_COUNT</th>\n",
              "      <th>PERCENT_COMPLETE</th>\n",
              "      <th>AQS_PARAMETER_CODE</th>\n",
              "      <th>AQS_PARAMETER_DESC</th>\n",
              "      <th>CBSA_CODE</th>\n",
              "      <th>CBSA_NAME</th>\n",
              "      <th>STATE_CODE</th>\n",
              "      <th>STATE</th>\n",
              "      <th>COUNTY_CODE</th>\n",
              "      <th>COUNTY</th>\n",
              "      <th>SITE_LATITUDE</th>\n",
              "      <th>SITE_LONGITUDE</th>\n",
              "    </tr>\n",
              "  </thead>\n",
              "  <tbody>\n",
              "    <tr>\n",
              "      <th>0</th>\n",
              "      <td>01/09/2019</td>\n",
              "      <td>AQS</td>\n",
              "      <td>240051007</td>\n",
              "      <td>1</td>\n",
              "      <td>4.2</td>\n",
              "      <td>ug/m3 LC</td>\n",
              "      <td>18</td>\n",
              "      <td>Padonia</td>\n",
              "      <td>1</td>\n",
              "      <td>100.0</td>\n",
              "      <td>88101</td>\n",
              "      <td>PM2.5 - Local Conditions</td>\n",
              "      <td>12580</td>\n",
              "      <td>Baltimore-Columbia-Towson, MD</td>\n",
              "      <td>24</td>\n",
              "      <td>Maryland</td>\n",
              "      <td>5</td>\n",
              "      <td>Baltimore</td>\n",
              "      <td>39.460478</td>\n",
              "      <td>-76.633543</td>\n",
              "    </tr>\n",
              "    <tr>\n",
              "      <th>1</th>\n",
              "      <td>01/21/2019</td>\n",
              "      <td>AQS</td>\n",
              "      <td>240051007</td>\n",
              "      <td>1</td>\n",
              "      <td>2.3</td>\n",
              "      <td>ug/m3 LC</td>\n",
              "      <td>10</td>\n",
              "      <td>Padonia</td>\n",
              "      <td>1</td>\n",
              "      <td>100.0</td>\n",
              "      <td>88101</td>\n",
              "      <td>PM2.5 - Local Conditions</td>\n",
              "      <td>12580</td>\n",
              "      <td>Baltimore-Columbia-Towson, MD</td>\n",
              "      <td>24</td>\n",
              "      <td>Maryland</td>\n",
              "      <td>5</td>\n",
              "      <td>Baltimore</td>\n",
              "      <td>39.460478</td>\n",
              "      <td>-76.633543</td>\n",
              "    </tr>\n",
              "    <tr>\n",
              "      <th>2</th>\n",
              "      <td>02/02/2019</td>\n",
              "      <td>AQS</td>\n",
              "      <td>240051007</td>\n",
              "      <td>1</td>\n",
              "      <td>26.3</td>\n",
              "      <td>ug/m3 LC</td>\n",
              "      <td>81</td>\n",
              "      <td>Padonia</td>\n",
              "      <td>1</td>\n",
              "      <td>100.0</td>\n",
              "      <td>88101</td>\n",
              "      <td>PM2.5 - Local Conditions</td>\n",
              "      <td>12580</td>\n",
              "      <td>Baltimore-Columbia-Towson, MD</td>\n",
              "      <td>24</td>\n",
              "      <td>Maryland</td>\n",
              "      <td>5</td>\n",
              "      <td>Baltimore</td>\n",
              "      <td>39.460478</td>\n",
              "      <td>-76.633543</td>\n",
              "    </tr>\n",
              "    <tr>\n",
              "      <th>3</th>\n",
              "      <td>02/14/2019</td>\n",
              "      <td>AQS</td>\n",
              "      <td>240051007</td>\n",
              "      <td>1</td>\n",
              "      <td>4.2</td>\n",
              "      <td>ug/m3 LC</td>\n",
              "      <td>18</td>\n",
              "      <td>Padonia</td>\n",
              "      <td>1</td>\n",
              "      <td>100.0</td>\n",
              "      <td>88101</td>\n",
              "      <td>PM2.5 - Local Conditions</td>\n",
              "      <td>12580</td>\n",
              "      <td>Baltimore-Columbia-Towson, MD</td>\n",
              "      <td>24</td>\n",
              "      <td>Maryland</td>\n",
              "      <td>5</td>\n",
              "      <td>Baltimore</td>\n",
              "      <td>39.460478</td>\n",
              "      <td>-76.633543</td>\n",
              "    </tr>\n",
              "    <tr>\n",
              "      <th>4</th>\n",
              "      <td>02/26/2019</td>\n",
              "      <td>AQS</td>\n",
              "      <td>240051007</td>\n",
              "      <td>1</td>\n",
              "      <td>6.2</td>\n",
              "      <td>ug/m3 LC</td>\n",
              "      <td>26</td>\n",
              "      <td>Padonia</td>\n",
              "      <td>1</td>\n",
              "      <td>100.0</td>\n",
              "      <td>88101</td>\n",
              "      <td>PM2.5 - Local Conditions</td>\n",
              "      <td>12580</td>\n",
              "      <td>Baltimore-Columbia-Towson, MD</td>\n",
              "      <td>24</td>\n",
              "      <td>Maryland</td>\n",
              "      <td>5</td>\n",
              "      <td>Baltimore</td>\n",
              "      <td>39.460478</td>\n",
              "      <td>-76.633543</td>\n",
              "    </tr>\n",
              "  </tbody>\n",
              "</table>\n",
              "</div>"
            ],
            "text/plain": [
              "         Date Source    Site ID  ...     COUNTY  SITE_LATITUDE SITE_LONGITUDE\n",
              "0  01/09/2019    AQS  240051007  ...  Baltimore      39.460478     -76.633543\n",
              "1  01/21/2019    AQS  240051007  ...  Baltimore      39.460478     -76.633543\n",
              "2  02/02/2019    AQS  240051007  ...  Baltimore      39.460478     -76.633543\n",
              "3  02/14/2019    AQS  240051007  ...  Baltimore      39.460478     -76.633543\n",
              "4  02/26/2019    AQS  240051007  ...  Baltimore      39.460478     -76.633543\n",
              "\n",
              "[5 rows x 20 columns]"
            ]
          },
          "metadata": {
            "tags": []
          },
          "execution_count": 3
        }
      ]
    },
    {
      "cell_type": "markdown",
      "metadata": {
        "id": "9_UnAwq9PTY4",
        "colab_type": "text"
      },
      "source": [
        "## Aggregate Data"
      ]
    },
    {
      "cell_type": "markdown",
      "metadata": {
        "id": "R3Pq3zgQPdTV",
        "colab_type": "text"
      },
      "source": [
        "In Excel, we use the Pivot Table button to create aggregated views and charts with larger datasets. This allowed us to gain some high-level understanding of our data without needing to do much. \n",
        "\n",
        "We can create similar types of aggregated tables in two main ways with Python: "
      ]
    },
    {
      "cell_type": "markdown",
      "metadata": {
        "id": "kE_xzkNRQVYD",
        "colab_type": "text"
      },
      "source": [
        "### Pivot Tables in Python"
      ]
    },
    {
      "cell_type": "markdown",
      "metadata": {
        "id": "BOLBbb42QYVz",
        "colab_type": "text"
      },
      "source": [
        "We can use the pandas **pivot_table** function to essentially create a pivot table in our python notebook.\n",
        "\n",
        "This function is set up nicely to mimic exactly what we've done with pivot tables in Excel, which can be useful if we want to keep a legacy of our work and manipulations or if we want to work with larger datasets that might make Excel crash. The general formula to create a pivot table with Python is: \n",
        "\n",
        "```\n",
        "new_dataframe_name = pd.pivot_table(old_dataframe, values = columns_we_want_in_values_fields_of_pivot_table, \n",
        "                                       index = columns_we_want_as_row_fields, \n",
        "                                       columns = columns_we_want_as_column_fields, \n",
        "                                       aggfunc = np.function_we_want_to_perform_on_values).reset_index()\n",
        "\n",
        "```\n",
        "\n",
        "If we want to use more than one column in the values, index, or column fields, then we need to make them into a list. For example, if we wanted to use Day Name and Date Range as our row fields, we would write index = [\"tier\", \"tier_name\"]\n",
        "\n",
        "\n"
      ]
    },
    {
      "cell_type": "markdown",
      "metadata": {
        "id": "vTzb0SIqRmqs",
        "colab_type": "text"
      },
      "source": [
        "#### pivot table with college characteristic data"
      ]
    },
    {
      "cell_type": "code",
      "metadata": {
        "id": "VGPhG00jSBQF",
        "colab_type": "code",
        "outputId": "d9f13cf7-b265-4054-f74c-185152d3bfdc",
        "colab": {
          "base_uri": "https://localhost:8080/",
          "height": 357
        }
      },
      "source": [
        "# get a list of all of the dataframe column names\n",
        "df_air_info.columns.tolist()"
      ],
      "execution_count": 4,
      "outputs": [
        {
          "output_type": "execute_result",
          "data": {
            "text/plain": [
              "['Date',\n",
              " 'Source',\n",
              " 'Site ID',\n",
              " 'POC',\n",
              " 'Daily Mean PM2.5 Concentration',\n",
              " 'UNITS',\n",
              " 'DAILY_AQI_VALUE',\n",
              " 'Site Name',\n",
              " 'DAILY_OBS_COUNT',\n",
              " 'PERCENT_COMPLETE',\n",
              " 'AQS_PARAMETER_CODE',\n",
              " 'AQS_PARAMETER_DESC',\n",
              " 'CBSA_CODE',\n",
              " 'CBSA_NAME',\n",
              " 'STATE_CODE',\n",
              " 'STATE',\n",
              " 'COUNTY_CODE',\n",
              " 'COUNTY',\n",
              " 'SITE_LATITUDE',\n",
              " 'SITE_LONGITUDE']"
            ]
          },
          "metadata": {
            "tags": []
          },
          "execution_count": 4
        }
      ]
    },
    {
      "cell_type": "code",
      "metadata": {
        "id": "eT-ZG4WbRsxN",
        "colab_type": "code",
        "colab": {}
      },
      "source": [
        "# create a  pivot table of average graduation rate in 2013 per college tier\n",
        "\n",
        "df_collective_air_info = pd.pivot_table(df_air_info,\n",
        "                                  values = 'Daily Mean PM2.5 Concentration',\n",
        "                                  index = 'Date',\n",
        "                                  aggfunc = np.mean).reset_index()"
      ],
      "execution_count": 0,
      "outputs": []
    },
    {
      "cell_type": "code",
      "metadata": {
        "id": "7TAwn4FwSnyq",
        "colab_type": "code",
        "outputId": "36bd6d0b-8671-4949-9d80-d0ecf096ee51",
        "colab": {
          "base_uri": "https://localhost:8080/",
          "height": 419
        }
      },
      "source": [
        "df_collective_air_info"
      ],
      "execution_count": 6,
      "outputs": [
        {
          "output_type": "execute_result",
          "data": {
            "text/html": [
              "<div>\n",
              "<style scoped>\n",
              "    .dataframe tbody tr th:only-of-type {\n",
              "        vertical-align: middle;\n",
              "    }\n",
              "\n",
              "    .dataframe tbody tr th {\n",
              "        vertical-align: top;\n",
              "    }\n",
              "\n",
              "    .dataframe thead th {\n",
              "        text-align: right;\n",
              "    }\n",
              "</style>\n",
              "<table border=\"1\" class=\"dataframe\">\n",
              "  <thead>\n",
              "    <tr style=\"text-align: right;\">\n",
              "      <th></th>\n",
              "      <th>Date</th>\n",
              "      <th>Daily Mean PM2.5 Concentration</th>\n",
              "    </tr>\n",
              "  </thead>\n",
              "  <tbody>\n",
              "    <tr>\n",
              "      <th>0</th>\n",
              "      <td>01/01/2019</td>\n",
              "      <td>3.250</td>\n",
              "    </tr>\n",
              "    <tr>\n",
              "      <th>1</th>\n",
              "      <td>01/02/2019</td>\n",
              "      <td>5.475</td>\n",
              "    </tr>\n",
              "    <tr>\n",
              "      <th>2</th>\n",
              "      <td>01/03/2019</td>\n",
              "      <td>6.400</td>\n",
              "    </tr>\n",
              "    <tr>\n",
              "      <th>3</th>\n",
              "      <td>01/04/2019</td>\n",
              "      <td>11.675</td>\n",
              "    </tr>\n",
              "    <tr>\n",
              "      <th>4</th>\n",
              "      <td>01/05/2019</td>\n",
              "      <td>4.450</td>\n",
              "    </tr>\n",
              "    <tr>\n",
              "      <th>...</th>\n",
              "      <td>...</td>\n",
              "      <td>...</td>\n",
              "    </tr>\n",
              "    <tr>\n",
              "      <th>360</th>\n",
              "      <td>12/27/2019</td>\n",
              "      <td>11.125</td>\n",
              "    </tr>\n",
              "    <tr>\n",
              "      <th>361</th>\n",
              "      <td>12/28/2019</td>\n",
              "      <td>15.125</td>\n",
              "    </tr>\n",
              "    <tr>\n",
              "      <th>362</th>\n",
              "      <td>12/29/2019</td>\n",
              "      <td>16.750</td>\n",
              "    </tr>\n",
              "    <tr>\n",
              "      <th>363</th>\n",
              "      <td>12/30/2019</td>\n",
              "      <td>2.650</td>\n",
              "    </tr>\n",
              "    <tr>\n",
              "      <th>364</th>\n",
              "      <td>12/31/2019</td>\n",
              "      <td>3.975</td>\n",
              "    </tr>\n",
              "  </tbody>\n",
              "</table>\n",
              "<p>365 rows × 2 columns</p>\n",
              "</div>"
            ],
            "text/plain": [
              "           Date  Daily Mean PM2.5 Concentration\n",
              "0    01/01/2019                           3.250\n",
              "1    01/02/2019                           5.475\n",
              "2    01/03/2019                           6.400\n",
              "3    01/04/2019                          11.675\n",
              "4    01/05/2019                           4.450\n",
              "..          ...                             ...\n",
              "360  12/27/2019                          11.125\n",
              "361  12/28/2019                          15.125\n",
              "362  12/29/2019                          16.750\n",
              "363  12/30/2019                           2.650\n",
              "364  12/31/2019                           3.975\n",
              "\n",
              "[365 rows x 2 columns]"
            ]
          },
          "metadata": {
            "tags": []
          },
          "execution_count": 6
        }
      ]
    },
    {
      "cell_type": "code",
      "metadata": {
        "colab_type": "code",
        "id": "P2z_PHl4Mo6l",
        "colab": {}
      },
      "source": [
        "# create a  pivot table of average graduation rate in 2013 per college tier\n",
        "df_site_air_info = pd.pivot_table(df_air_info,\n",
        "                                  values = 'Daily Mean PM2.5 Concentration',\n",
        "                                  index = 'Site Name',\n",
        "                                  aggfunc = np.sum).reset_index()\n"
      ],
      "execution_count": 0,
      "outputs": []
    },
    {
      "cell_type": "code",
      "metadata": {
        "colab_type": "code",
        "outputId": "7aacaf1c-6f72-4cea-c954-ec68b1bbe28a",
        "id": "PWqr3TyTMrLw",
        "colab": {
          "base_uri": "https://localhost:8080/",
          "height": 204
        }
      },
      "source": [
        "df_site_air_info"
      ],
      "execution_count": 23,
      "outputs": [
        {
          "output_type": "execute_result",
          "data": {
            "text/html": [
              "<div>\n",
              "<style scoped>\n",
              "    .dataframe tbody tr th:only-of-type {\n",
              "        vertical-align: middle;\n",
              "    }\n",
              "\n",
              "    .dataframe tbody tr th {\n",
              "        vertical-align: top;\n",
              "    }\n",
              "\n",
              "    .dataframe thead th {\n",
              "        text-align: right;\n",
              "    }\n",
              "</style>\n",
              "<table border=\"1\" class=\"dataframe\">\n",
              "  <thead>\n",
              "    <tr style=\"text-align: right;\">\n",
              "      <th></th>\n",
              "      <th>Site Name</th>\n",
              "      <th>Daily Mean PM2.5 Concentration</th>\n",
              "    </tr>\n",
              "  </thead>\n",
              "  <tbody>\n",
              "    <tr>\n",
              "      <th>0</th>\n",
              "      <td>Edgewood</td>\n",
              "      <td>2493.1</td>\n",
              "    </tr>\n",
              "    <tr>\n",
              "      <th>1</th>\n",
              "      <td>Essex</td>\n",
              "      <td>488.0</td>\n",
              "    </tr>\n",
              "    <tr>\n",
              "      <th>2</th>\n",
              "      <td>Howard County Near Road</td>\n",
              "      <td>2649.4</td>\n",
              "    </tr>\n",
              "    <tr>\n",
              "      <th>3</th>\n",
              "      <td>Oldtown</td>\n",
              "      <td>3890.2</td>\n",
              "    </tr>\n",
              "    <tr>\n",
              "      <th>4</th>\n",
              "      <td>Padonia</td>\n",
              "      <td>2862.8</td>\n",
              "    </tr>\n",
              "  </tbody>\n",
              "</table>\n",
              "</div>"
            ],
            "text/plain": [
              "                 Site Name  Daily Mean PM2.5 Concentration\n",
              "0                 Edgewood                          2493.1\n",
              "1                    Essex                           488.0\n",
              "2  Howard County Near Road                          2649.4\n",
              "3                  Oldtown                          3890.2\n",
              "4                  Padonia                          2862.8"
            ]
          },
          "metadata": {
            "tags": []
          },
          "execution_count": 23
        }
      ]
    },
    {
      "cell_type": "markdown",
      "metadata": {
        "id": "xNDQWkToT2f5",
        "colab_type": "text"
      },
      "source": [
        "# Data Visualizations with Plotly"
      ]
    },
    {
      "cell_type": "markdown",
      "metadata": {
        "id": "nGnoWK8fT6Pq",
        "colab_type": "text"
      },
      "source": [
        "## Bar Graph of Average Graduation Rate per College Tier"
      ]
    },
    {
      "cell_type": "code",
      "metadata": {
        "id": "pebOj4bHT5K5",
        "colab_type": "code",
        "outputId": "9771fe49-567f-459f-caa8-479e93244147",
        "colab": {
          "base_uri": "https://localhost:8080/",
          "height": 419
        }
      },
      "source": [
        "# bring up dataframe pivot table made previously\n",
        "df_collective_air_info"
      ],
      "execution_count": 7,
      "outputs": [
        {
          "output_type": "execute_result",
          "data": {
            "text/html": [
              "<div>\n",
              "<style scoped>\n",
              "    .dataframe tbody tr th:only-of-type {\n",
              "        vertical-align: middle;\n",
              "    }\n",
              "\n",
              "    .dataframe tbody tr th {\n",
              "        vertical-align: top;\n",
              "    }\n",
              "\n",
              "    .dataframe thead th {\n",
              "        text-align: right;\n",
              "    }\n",
              "</style>\n",
              "<table border=\"1\" class=\"dataframe\">\n",
              "  <thead>\n",
              "    <tr style=\"text-align: right;\">\n",
              "      <th></th>\n",
              "      <th>Date</th>\n",
              "      <th>Daily Mean PM2.5 Concentration</th>\n",
              "    </tr>\n",
              "  </thead>\n",
              "  <tbody>\n",
              "    <tr>\n",
              "      <th>0</th>\n",
              "      <td>01/01/2019</td>\n",
              "      <td>3.250</td>\n",
              "    </tr>\n",
              "    <tr>\n",
              "      <th>1</th>\n",
              "      <td>01/02/2019</td>\n",
              "      <td>5.475</td>\n",
              "    </tr>\n",
              "    <tr>\n",
              "      <th>2</th>\n",
              "      <td>01/03/2019</td>\n",
              "      <td>6.400</td>\n",
              "    </tr>\n",
              "    <tr>\n",
              "      <th>3</th>\n",
              "      <td>01/04/2019</td>\n",
              "      <td>11.675</td>\n",
              "    </tr>\n",
              "    <tr>\n",
              "      <th>4</th>\n",
              "      <td>01/05/2019</td>\n",
              "      <td>4.450</td>\n",
              "    </tr>\n",
              "    <tr>\n",
              "      <th>...</th>\n",
              "      <td>...</td>\n",
              "      <td>...</td>\n",
              "    </tr>\n",
              "    <tr>\n",
              "      <th>360</th>\n",
              "      <td>12/27/2019</td>\n",
              "      <td>11.125</td>\n",
              "    </tr>\n",
              "    <tr>\n",
              "      <th>361</th>\n",
              "      <td>12/28/2019</td>\n",
              "      <td>15.125</td>\n",
              "    </tr>\n",
              "    <tr>\n",
              "      <th>362</th>\n",
              "      <td>12/29/2019</td>\n",
              "      <td>16.750</td>\n",
              "    </tr>\n",
              "    <tr>\n",
              "      <th>363</th>\n",
              "      <td>12/30/2019</td>\n",
              "      <td>2.650</td>\n",
              "    </tr>\n",
              "    <tr>\n",
              "      <th>364</th>\n",
              "      <td>12/31/2019</td>\n",
              "      <td>3.975</td>\n",
              "    </tr>\n",
              "  </tbody>\n",
              "</table>\n",
              "<p>365 rows × 2 columns</p>\n",
              "</div>"
            ],
            "text/plain": [
              "           Date  Daily Mean PM2.5 Concentration\n",
              "0    01/01/2019                           3.250\n",
              "1    01/02/2019                           5.475\n",
              "2    01/03/2019                           6.400\n",
              "3    01/04/2019                          11.675\n",
              "4    01/05/2019                           4.450\n",
              "..          ...                             ...\n",
              "360  12/27/2019                          11.125\n",
              "361  12/28/2019                          15.125\n",
              "362  12/29/2019                          16.750\n",
              "363  12/30/2019                           2.650\n",
              "364  12/31/2019                           3.975\n",
              "\n",
              "[365 rows x 2 columns]"
            ]
          },
          "metadata": {
            "tags": []
          },
          "execution_count": 7
        }
      ]
    },
    {
      "cell_type": "markdown",
      "metadata": {
        "id": "3igz04UNWX86",
        "colab_type": "text"
      },
      "source": [
        "We'll use plotly express to create an interactive data visualization (bar chart) with the data in our pivot table. \n",
        "\n",
        "The general formula for a bar chart with plotly express is: \n",
        "```\n",
        "chart_name = px.bar(df, # dataframe of the data we want to plot\n",
        "                     x = \"column on the x axis\", \n",
        "                     y = \"column on the y axis\", \n",
        "                     color = \"how to categorize data with different colors\", \n",
        "                     hover_name = \"values we want to show up when we hover over the chart\", \n",
        "                    title = \"chart title\", \n",
        "                    labels = {\"column_name\": \"new label\", \"column_name\": \"new label\"}, # renaming labels\n",
        "                    orientation = \"h\" # change the x, y values to make a horizontal bar chart\n",
        "                    )\n",
        "```\n",
        "\n",
        "You can also use this formula with data visualizations other than bar charts. For a full library of data visualizations with plotly express look [here](https://plot.ly/python/plotly-express/)."
      ]
    },
    {
      "cell_type": "code",
      "metadata": {
        "id": "byyRyo-aUnhV",
        "colab_type": "code",
        "colab": {
          "base_uri": "https://localhost:8080/",
          "height": 649
        },
        "outputId": "e1cd0832-4b4b-48bb-da5a-72f3746aff94"
      },
      "source": [
        "# make our pivot table into an interactive bar chart\n",
        "line_collective_air_info = df_collective_air_info.set_index('Date')['Daily Mean PM2.5 Concentration'].plot(figsize=(22, 10), linewidth=1.5, color='maroon')\n",
        "plt.xlabel(\"Date\", labelpad=15)\n",
        "plt.ylabel(\"Daily PM2.5 Concentration Mean\", labelpad=15)\n",
        "plt.title(\"Daily Mean PM2.5 Concentration\", y=1.02, fontsize=22);"
      ],
      "execution_count": 20,
      "outputs": [
        {
          "output_type": "display_data",
          "data": {
            "image/png": "[encoded data removed]",
            "text/plain": [
              "<Figure size 1584x720 with 1 Axes>"
            ]
          },
          "metadata": {
            "tags": []
          }
        }
      ]
    },
    {
      "cell_type": "code",
      "metadata": {
        "colab_type": "code",
        "id": "_Q-Xwm2VozBI",
        "colab": {}
      },
      "source": [
        "# make our pivot table into an interactive bar chart\n",
        "bar_site_info = px.bar(df_site_air_info, # dataframe of the data we want to plot\n",
        "                     x = \"Site Name\", \n",
        "                     y = \"Daily Mean PM2.5 Concentration\", \n",
        "                     #color = \"how to categorize data with different colors\", \n",
        "                     hover_name = \"Daily Mean PM2.5 Concentration\", \n",
        "                    title = \"PM2.5 Pollution in Different Sites in Baltimore-Columbia-Townson Area in 2019\", \n",
        "                    labels = {\"Daily Mean PM2.5 Concentration\": \"Total PM2.5 Pollution in 2019\", \"grad_rate_150_p_2013\": \"Graduation Rate in 2013\"}, # renaming labels\n",
        "                    #orientation = \"h\" # change the x, y values to make a horizontal bar chart\n",
        "                    )"
      ],
      "execution_count": 0,
      "outputs": []
    },
    {
      "cell_type": "code",
      "metadata": {
        "id": "qeghtyKEXzUS",
        "colab_type": "code",
        "outputId": "ad6436d8-bba9-4c8d-efd2-543c2bf0a42a",
        "colab": {
          "base_uri": "https://localhost:8080/",
          "height": 542
        }
      },
      "source": [
        "bar_site_info"
      ],
      "execution_count": 28,
      "outputs": [
        {
          "output_type": "display_data",
          "data": {
            "text/html": [
              "<html>\n",
              "<head><meta charset=\"utf-8\" /></head>\n",
              "<body>\n",
              "    <div>\n",
              "            <script src=\"https://cdnjs.cloudflare.com/ajax/libs/mathjax/2.7.5/MathJax.js?config=TeX-AMS-MML_SVG\"></script><script type=\"text/javascript\">if (window.MathJax) {MathJax.Hub.Config({SVG: {font: \"STIX-Web\"}});}</script>\n",
              "                <script type=\"text/javascript\">window.PlotlyConfig = {MathJaxConfig: 'local'};</script>\n",
              "        <script src=\"https://cdn.plot.ly/plotly-latest.min.js\"></script>    \n",
              "            <div id=\"448d430b-12ae-4373-b1b3-a2cb26ba912c\" class=\"plotly-graph-div\" style=\"height:525px; width:100%;\"></div>\n",
              "            <script type=\"text/javascript\">\n",
              "                \n",
              "                    window.PLOTLYENV=window.PLOTLYENV || {};\n",
              "                    \n",
              "                if (document.getElementById(\"448d430b-12ae-4373-b1b3-a2cb26ba912c\")) {\n",
              "                    Plotly.newPlot(\n",
              "                        '448d430b-12ae-4373-b1b3-a2cb26ba912c',\n",
              "                        [{\"alignmentgroup\": \"True\", \"hoverlabel\": {\"namelength\": 0}, \"hovertemplate\": \"<b>%{hovertext}</b><br><br>Site Name=%{x}<br>Total PM2.5 Pollution in 2019=%{y}\", \"hovertext\": [2493.1000000000017, 488.00000000000006, 2649.399999999999, 3890.199999999999, 2862.7999999999984], \"legendgroup\": \"\", \"marker\": {\"color\": \"#636efa\"}, \"name\": \"\", \"offsetgroup\": \"\", \"orientation\": \"v\", \"showlegend\": false, \"textposition\": \"auto\", \"type\": \"bar\", \"x\": [\"Edgewood\", \"Essex\", \"Howard County Near Road\", \"Oldtown\", \"Padonia\"], \"xaxis\": \"x\", \"y\": [2493.1000000000017, 488.00000000000006, 2649.399999999999, 3890.199999999999, 2862.7999999999984], \"yaxis\": \"y\"}],\n",
              "                        {\"barmode\": \"relative\", \"legend\": {\"tracegroupgap\": 0}, \"template\": {\"data\": {\"bar\": [{\"error_x\": {\"color\": \"#2a3f5f\"}, \"error_y\": {\"color\": \"#2a3f5f\"}, \"marker\": {\"line\": {\"color\": \"#E5ECF6\", \"width\": 0.5}}, \"type\": \"bar\"}], \"barpolar\": [{\"marker\": {\"line\": {\"color\": \"#E5ECF6\", \"width\": 0.5}}, \"type\": \"barpolar\"}], \"carpet\": [{\"aaxis\": {\"endlinecolor\": \"#2a3f5f\", \"gridcolor\": \"white\", \"linecolor\": \"white\", \"minorgridcolor\": \"white\", \"startlinecolor\": \"#2a3f5f\"}, \"baxis\": {\"endlinecolor\": \"#2a3f5f\", \"gridcolor\": \"white\", \"linecolor\": \"white\", \"minorgridcolor\": \"white\", \"startlinecolor\": \"#2a3f5f\"}, \"type\": \"carpet\"}], \"choropleth\": [{\"colorbar\": {\"outlinewidth\": 0, \"ticks\": \"\"}, \"type\": \"choropleth\"}], \"contour\": [{\"colorbar\": {\"outlinewidth\": 0, \"ticks\": \"\"}, \"colorscale\": [[0.0, \"#0d0887\"], [0.1111111111111111, \"#46039f\"], [0.2222222222222222, \"#7201a8\"], [0.3333333333333333, \"#9c179e\"], [0.4444444444444444, \"#bd3786\"], [0.5555555555555556, \"#d8576b\"], [0.6666666666666666, \"#ed7953\"], [0.7777777777777778, \"#fb9f3a\"], [0.8888888888888888, \"#fdca26\"], [1.0, \"#f0f921\"]], \"type\": \"contour\"}], \"contourcarpet\": [{\"colorbar\": {\"outlinewidth\": 0, \"ticks\": \"\"}, \"type\": \"contourcarpet\"}], \"heatmap\": [{\"colorbar\": {\"outlinewidth\": 0, \"ticks\": \"\"}, \"colorscale\": [[0.0, \"#0d0887\"], [0.1111111111111111, \"#46039f\"], [0.2222222222222222, \"#7201a8\"], [0.3333333333333333, \"#9c179e\"], [0.4444444444444444, \"#bd3786\"], [0.5555555555555556, \"#d8576b\"], [0.6666666666666666, \"#ed7953\"], [0.7777777777777778, \"#fb9f3a\"], [0.8888888888888888, \"#fdca26\"], [1.0, \"#f0f921\"]], \"type\": \"heatmap\"}], \"heatmapgl\": [{\"colorbar\": {\"outlinewidth\": 0, \"ticks\": \"\"}, \"colorscale\": [[0.0, \"#0d0887\"], [0.1111111111111111, \"#46039f\"], [0.2222222222222222, \"#7201a8\"], [0.3333333333333333, \"#9c179e\"], [0.4444444444444444, \"#bd3786\"], [0.5555555555555556, \"#d8576b\"], [0.6666666666666666, \"#ed7953\"], [0.7777777777777778, \"#fb9f3a\"], [0.8888888888888888, \"#fdca26\"], [1.0, \"#f0f921\"]], \"type\": \"heatmapgl\"}], \"histogram\": [{\"marker\": {\"colorbar\": {\"outlinewidth\": 0, \"ticks\": \"\"}}, \"type\": \"histogram\"}], \"histogram2d\": [{\"colorbar\": {\"outlinewidth\": 0, \"ticks\": \"\"}, \"colorscale\": [[0.0, \"#0d0887\"], [0.1111111111111111, \"#46039f\"], [0.2222222222222222, \"#7201a8\"], [0.3333333333333333, \"#9c179e\"], [0.4444444444444444, \"#bd3786\"], [0.5555555555555556, \"#d8576b\"], [0.6666666666666666, \"#ed7953\"], [0.7777777777777778, \"#fb9f3a\"], [0.8888888888888888, \"#fdca26\"], [1.0, \"#f0f921\"]], \"type\": \"histogram2d\"}], \"histogram2dcontour\": [{\"colorbar\": {\"outlinewidth\": 0, \"ticks\": \"\"}, \"colorscale\": [[0.0, \"#0d0887\"], [0.1111111111111111, \"#46039f\"], [0.2222222222222222, \"#7201a8\"], [0.3333333333333333, \"#9c179e\"], [0.4444444444444444, \"#bd3786\"], [0.5555555555555556, \"#d8576b\"], [0.6666666666666666, \"#ed7953\"], [0.7777777777777778, \"#fb9f3a\"], [0.8888888888888888, \"#fdca26\"], [1.0, \"#f0f921\"]], \"type\": \"histogram2dcontour\"}], \"mesh3d\": [{\"colorbar\": {\"outlinewidth\": 0, \"ticks\": \"\"}, \"type\": \"mesh3d\"}], \"parcoords\": [{\"line\": {\"colorbar\": {\"outlinewidth\": 0, \"ticks\": \"\"}}, \"type\": \"parcoords\"}], \"pie\": [{\"automargin\": true, \"type\": \"pie\"}], \"scatter\": [{\"marker\": {\"colorbar\": {\"outlinewidth\": 0, \"ticks\": \"\"}}, \"type\": \"scatter\"}], \"scatter3d\": [{\"line\": {\"colorbar\": {\"outlinewidth\": 0, \"ticks\": \"\"}}, \"marker\": {\"colorbar\": {\"outlinewidth\": 0, \"ticks\": \"\"}}, \"type\": \"scatter3d\"}], \"scattercarpet\": [{\"marker\": {\"colorbar\": {\"outlinewidth\": 0, \"ticks\": \"\"}}, \"type\": \"scattercarpet\"}], \"scattergeo\": [{\"marker\": {\"colorbar\": {\"outlinewidth\": 0, \"ticks\": \"\"}}, \"type\": \"scattergeo\"}], \"scattergl\": [{\"marker\": {\"colorbar\": {\"outlinewidth\": 0, \"ticks\": \"\"}}, \"type\": \"scattergl\"}], \"scattermapbox\": [{\"marker\": {\"colorbar\": {\"outlinewidth\": 0, \"ticks\": \"\"}}, \"type\": \"scattermapbox\"}], \"scatterpolar\": [{\"marker\": {\"colorbar\": {\"outlinewidth\": 0, \"ticks\": \"\"}}, \"type\": \"scatterpolar\"}], \"scatterpolargl\": [{\"marker\": {\"colorbar\": {\"outlinewidth\": 0, \"ticks\": \"\"}}, \"type\": \"scatterpolargl\"}], \"scatterternary\": [{\"marker\": {\"colorbar\": {\"outlinewidth\": 0, \"ticks\": \"\"}}, \"type\": \"scatterternary\"}], \"surface\": [{\"colorbar\": {\"outlinewidth\": 0, \"ticks\": \"\"}, \"colorscale\": [[0.0, \"#0d0887\"], [0.1111111111111111, \"#46039f\"], [0.2222222222222222, \"#7201a8\"], [0.3333333333333333, \"#9c179e\"], [0.4444444444444444, \"#bd3786\"], [0.5555555555555556, \"#d8576b\"], [0.6666666666666666, \"#ed7953\"], [0.7777777777777778, \"#fb9f3a\"], [0.8888888888888888, \"#fdca26\"], [1.0, \"#f0f921\"]], \"type\": \"surface\"}], \"table\": [{\"cells\": {\"fill\": {\"color\": \"#EBF0F8\"}, \"line\": {\"color\": \"white\"}}, \"header\": {\"fill\": {\"color\": \"#C8D4E3\"}, \"line\": {\"color\": \"white\"}}, \"type\": \"table\"}]}, \"layout\": {\"annotationdefaults\": {\"arrowcolor\": \"#2a3f5f\", \"arrowhead\": 0, \"arrowwidth\": 1}, \"coloraxis\": {\"colorbar\": {\"outlinewidth\": 0, \"ticks\": \"\"}}, \"colorscale\": {\"diverging\": [[0, \"#8e0152\"], [0.1, \"#c51b7d\"], [0.2, \"#de77ae\"], [0.3, \"#f1b6da\"], [0.4, \"#fde0ef\"], [0.5, \"#f7f7f7\"], [0.6, \"#e6f5d0\"], [0.7, \"#b8e186\"], [0.8, \"#7fbc41\"], [0.9, \"#4d9221\"], [1, \"#276419\"]], \"sequential\": [[0.0, \"#0d0887\"], [0.1111111111111111, \"#46039f\"], [0.2222222222222222, \"#7201a8\"], [0.3333333333333333, \"#9c179e\"], [0.4444444444444444, \"#bd3786\"], [0.5555555555555556, \"#d8576b\"], [0.6666666666666666, \"#ed7953\"], [0.7777777777777778, \"#fb9f3a\"], [0.8888888888888888, \"#fdca26\"], [1.0, \"#f0f921\"]], \"sequentialminus\": [[0.0, \"#0d0887\"], [0.1111111111111111, \"#46039f\"], [0.2222222222222222, \"#7201a8\"], [0.3333333333333333, \"#9c179e\"], [0.4444444444444444, \"#bd3786\"], [0.5555555555555556, \"#d8576b\"], [0.6666666666666666, \"#ed7953\"], [0.7777777777777778, \"#fb9f3a\"], [0.8888888888888888, \"#fdca26\"], [1.0, \"#f0f921\"]]}, \"colorway\": [\"#636efa\", \"#EF553B\", \"#00cc96\", \"#ab63fa\", \"#FFA15A\", \"#19d3f3\", \"#FF6692\", \"#B6E880\", \"#FF97FF\", \"#FECB52\"], \"font\": {\"color\": \"#2a3f5f\"}, \"geo\": {\"bgcolor\": \"white\", \"lakecolor\": \"white\", \"landcolor\": \"#E5ECF6\", \"showlakes\": true, \"showland\": true, \"subunitcolor\": \"white\"}, \"hoverlabel\": {\"align\": \"left\"}, \"hovermode\": \"closest\", \"mapbox\": {\"style\": \"light\"}, \"paper_bgcolor\": \"white\", \"plot_bgcolor\": \"#E5ECF6\", \"polar\": {\"angularaxis\": {\"gridcolor\": \"white\", \"linecolor\": \"white\", \"ticks\": \"\"}, \"bgcolor\": \"#E5ECF6\", \"radialaxis\": {\"gridcolor\": \"white\", \"linecolor\": \"white\", \"ticks\": \"\"}}, \"scene\": {\"xaxis\": {\"backgroundcolor\": \"#E5ECF6\", \"gridcolor\": \"white\", \"gridwidth\": 2, \"linecolor\": \"white\", \"showbackground\": true, \"ticks\": \"\", \"zerolinecolor\": \"white\"}, \"yaxis\": {\"backgroundcolor\": \"#E5ECF6\", \"gridcolor\": \"white\", \"gridwidth\": 2, \"linecolor\": \"white\", \"showbackground\": true, \"ticks\": \"\", \"zerolinecolor\": \"white\"}, \"zaxis\": {\"backgroundcolor\": \"#E5ECF6\", \"gridcolor\": \"white\", \"gridwidth\": 2, \"linecolor\": \"white\", \"showbackground\": true, \"ticks\": \"\", \"zerolinecolor\": \"white\"}}, \"shapedefaults\": {\"line\": {\"color\": \"#2a3f5f\"}}, \"ternary\": {\"aaxis\": {\"gridcolor\": \"white\", \"linecolor\": \"white\", \"ticks\": \"\"}, \"baxis\": {\"gridcolor\": \"white\", \"linecolor\": \"white\", \"ticks\": \"\"}, \"bgcolor\": \"#E5ECF6\", \"caxis\": {\"gridcolor\": \"white\", \"linecolor\": \"white\", \"ticks\": \"\"}}, \"title\": {\"x\": 0.05}, \"xaxis\": {\"automargin\": true, \"gridcolor\": \"white\", \"linecolor\": \"white\", \"ticks\": \"\", \"title\": {\"standoff\": 15}, \"zerolinecolor\": \"white\", \"zerolinewidth\": 2}, \"yaxis\": {\"automargin\": true, \"gridcolor\": \"white\", \"linecolor\": \"white\", \"ticks\": \"\", \"title\": {\"standoff\": 15}, \"zerolinecolor\": \"white\", \"zerolinewidth\": 2}}}, \"title\": {\"text\": \"PM2.5 Pollution in Different Sites in Baltimore-Columbia-Townson Area in 2019\"}, \"xaxis\": {\"anchor\": \"y\", \"domain\": [0.0, 1.0], \"title\": {\"text\": \"Site Name\"}}, \"yaxis\": {\"anchor\": \"x\", \"domain\": [0.0, 1.0], \"title\": {\"text\": \"Total PM2.5 Pollution in 2019\"}}},\n",
              "                        {\"responsive\": true}\n",
              "                    ).then(function(){\n",
              "                            \n",
              "var gd = document.getElementById('448d430b-12ae-4373-b1b3-a2cb26ba912c');\n",
              "var x = new MutationObserver(function (mutations, observer) {{\n",
              "        var display = window.getComputedStyle(gd).display;\n",
              "        if (!display || display === 'none') {{\n",
              "            console.log([gd, 'removed!']);\n",
              "            Plotly.purge(gd);\n",
              "            observer.disconnect();\n",
              "        }}\n",
              "}});\n",
              "\n",
              "// Listen for the removal of the full notebook cells\n",
              "var notebookContainer = gd.closest('#notebook-container');\n",
              "if (notebookContainer) {{\n",
              "    x.observe(notebookContainer, {childList: true});\n",
              "}}\n",
              "\n",
              "// Listen for the clearing of the current output cell\n",
              "var outputEl = gd.closest('.output');\n",
              "if (outputEl) {{\n",
              "    x.observe(outputEl, {childList: true});\n",
              "}}\n",
              "\n",
              "                        })\n",
              "                };\n",
              "                \n",
              "            </script>\n",
              "        </div>\n",
              "</body>\n",
              "</html>"
            ]
          },
          "metadata": {
            "tags": []
          }
        }
      ]
    },
    {
      "cell_type": "code",
      "metadata": {
        "id": "89qIDnSOC9Nn",
        "colab_type": "code",
        "colab": {}
      },
      "source": [
        ""
      ],
      "execution_count": 0,
      "outputs": []
    }
  ]
}